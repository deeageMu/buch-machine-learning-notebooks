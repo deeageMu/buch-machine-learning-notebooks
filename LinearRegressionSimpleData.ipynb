{
  "cells": [
    {
      "cell_type": "markdown",
      "metadata": {
        "colab_type": "text",
        "id": "view-in-github"
      },
      "source": [
        "<a href=\"https://colab.research.google.com/github/DJCordhose/buch-machine-learning-notebooks/blob/master/kap2.ipynb\" target=\"_parent\"><img src=\"https://colab.research.google.com/assets/colab-badge.svg\" alt=\"Open In Colab\"/></a>"
      ]
    },
    {
      "cell_type": "markdown",
      "metadata": {
        "id": "yJ2zzYGxh5R4"
      },
      "source": [
        "# Linear Regression. Very simple example"
      ]
    },
    {
      "cell_type": "code",
      "execution_count": null,
      "metadata": {
        "id": "iRA-vO-4h5R4",
        "trusted": false
      },
      "outputs": [],
      "source": [
        "import warnings\n",
        "warnings.filterwarnings('ignore')"
      ]
    },
    {
      "cell_type": "code",
      "execution_count": null,
      "metadata": {
        "id": "hEj2QxI7h5R_",
        "trusted": false
      },
      "outputs": [],
      "source": [
        "import matplotlib.pylab as plt\n",
        "import numpy as np"
      ]
    },
    {
      "cell_type": "code",
      "execution_count": null,
      "metadata": {
        "colab": {
          "base_uri": "https://localhost:8080/"
        },
        "id": "cz-aoJ07h5SE",
        "outputId": "1427640c-771b-4e57-9287-23c020dd94bb",
        "trusted": false
      },
      "outputs": [],
      "source": [
        "import sklearn\n",
        "print(sklearn.__version__)"
      ]
    },
    {
      "cell_type": "code",
      "execution_count": null,
      "metadata": {},
      "outputs": [],
      "source": [
        "mydata = list()\n",
        "for i in range(1, 100):\n",
        "    mydata.append(i)\n",
        "\n",
        "print(mydata)\n",
        "\n",
        "mytarget = list()\n",
        "for i in range(0, len(mydata)):\n",
        "    mytarget.append(mydata[i] * 100)\n",
        "\n",
        "print(mytarget)"
      ]
    },
    {
      "cell_type": "code",
      "execution_count": null,
      "metadata": {
        "id": "1z2taSz2h5SM",
        "trusted": false
      },
      "outputs": [],
      "source": [
        "X = np.array(mydata)\n",
        "y = np.array(mytarget)"
      ]
    },
    {
      "cell_type": "code",
      "execution_count": null,
      "metadata": {
        "colab": {
          "base_uri": "https://localhost:8080/"
        },
        "id": "Gm188qjuh5SO",
        "outputId": "3997499b-9447-4632-ca82-eb5411b575d0",
        "trusted": false
      },
      "outputs": [],
      "source": [
        "X.shape, y.shape\n"
      ]
    },
    {
      "cell_type": "code",
      "execution_count": null,
      "metadata": {},
      "outputs": [],
      "source": [
        "type(X), type(y)"
      ]
    },
    {
      "cell_type": "markdown",
      "metadata": {},
      "source": [
        "Die Methode reshape(-1, 1) wird in NumPy verwendet, um die Form eines Arrays zu ändern. In scikit-learn ist es wichtig, die Eingabedaten in der richtigen Form zu haben, insbesondere wenn du mit Modellen arbeitest, die eine bestimmte Eingabeform erwarten. Hier sind einige Fälle, in denen du X.reshape(-1, 1) verwenden solltest:\n",
        "\n",
        "1. Eindimensionale Daten\n",
        "Wenn deine Eingabedaten X ein eindimensionales Array sind (z. B. eine Liste von Werten), erwartet scikit-learn in der Regel eine 2D-Form, wobei jede Zeile einen Datenpunkt und jede Spalte ein Merkmal darstellt. Mit reshape(-1, 1) wandelst du ein eindimensionales Array in ein 2D-Array um, das eine Spalte hat."
      ]
    },
    {
      "cell_type": "code",
      "execution_count": null,
      "metadata": {},
      "outputs": [],
      "source": [
        "from sklearn.linear_model import LinearRegression\n",
        "model = LinearRegression()\n",
        "model.fit(X.reshape(-1, 1), y)\n"
      ]
    },
    {
      "cell_type": "code",
      "execution_count": null,
      "metadata": {},
      "outputs": [],
      "source": [
        "new_data = np.array([[60.1], [70.2], [80.3]])\n",
        "predictions = model.predict(new_data)\n",
        "\n",
        "print(predictions)"
      ]
    }
  ],
  "metadata": {
    "colab": {
      "include_colab_link": true,
      "name": "kap2.ipynb",
      "provenance": []
    },
    "kernelspec": {
      "display_name": "Python 3",
      "language": "python",
      "name": "python3"
    },
    "language_info": {
      "codemirror_mode": {
        "name": "ipython",
        "version": 3
      },
      "file_extension": ".py",
      "mimetype": "text/x-python",
      "name": "python",
      "nbconvert_exporter": "python",
      "pygments_lexer": "ipython3",
      "version": "3.10.17"
    }
  },
  "nbformat": 4,
  "nbformat_minor": 0
}
